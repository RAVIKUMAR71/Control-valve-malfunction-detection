{
  "nbformat": 4,
  "nbformat_minor": 0,
  "metadata": {
    "colab": {
      "name": "Wash water.ipynb",
      "provenance": []
    },
    "kernelspec": {
      "name": "python3",
      "display_name": "Python 3"
    }
  },
  "cells": [
    {
      "cell_type": "code",
      "metadata": {
        "colab": {
          "base_uri": "https://localhost:8080/"
        },
        "id": "lN-TTrEWTlwj",
        "outputId": "ea851242-ee4b-4567-820c-23e0b2413382"
      },
      "source": [
        "import numpy as np\n",
        "import pandas as pd\n",
        "import matplotlib.pyplot as plt\n",
        "import statsmodels.api as sm\n",
        "import seaborn as sns\n",
        "sns.set()"
      ],
      "execution_count": null,
      "outputs": [
        {
          "output_type": "stream",
          "text": [
            "/usr/local/lib/python3.6/dist-packages/statsmodels/tools/_testing.py:19: FutureWarning: pandas.util.testing is deprecated. Use the functions in the public API at pandas.testing instead.\n",
            "  import pandas.util.testing as tm\n"
          ],
          "name": "stderr"
        }
      ]
    },
    {
      "cell_type": "code",
      "metadata": {
        "id": "Z94GJgeXUJ00"
      },
      "source": [
        "data = pd.read_csv('Wash water.csv')\n",
        "# 72fic1202, 72fic1202.mv"
      ],
      "execution_count": null,
      "outputs": []
    },
    {
      "cell_type": "code",
      "metadata": {
        "colab": {
          "base_uri": "https://localhost:8080/",
          "height": 419
        },
        "id": "oZSH-cuTUY1S",
        "outputId": "db5327cc-0228-496a-fc79-6beb91dc8899"
      },
      "source": [
        "data"
      ],
      "execution_count": null,
      "outputs": [
        {
          "output_type": "execute_result",
          "data": {
            "text/html": [
              "<div>\n",
              "<style scoped>\n",
              "    .dataframe tbody tr th:only-of-type {\n",
              "        vertical-align: middle;\n",
              "    }\n",
              "\n",
              "    .dataframe tbody tr th {\n",
              "        vertical-align: top;\n",
              "    }\n",
              "\n",
              "    .dataframe thead th {\n",
              "        text-align: right;\n",
              "    }\n",
              "</style>\n",
              "<table border=\"1\" class=\"dataframe\">\n",
              "  <thead>\n",
              "    <tr style=\"text-align: right;\">\n",
              "      <th></th>\n",
              "      <th>72fic1202</th>\n",
              "      <th>72fic1202.mv</th>\n",
              "    </tr>\n",
              "  </thead>\n",
              "  <tbody>\n",
              "    <tr>\n",
              "      <th>0</th>\n",
              "      <td>4.201829</td>\n",
              "      <td>43.058518</td>\n",
              "    </tr>\n",
              "    <tr>\n",
              "      <th>1</th>\n",
              "      <td>4.200197</td>\n",
              "      <td>43.293717</td>\n",
              "    </tr>\n",
              "    <tr>\n",
              "      <th>2</th>\n",
              "      <td>4.197357</td>\n",
              "      <td>43.295409</td>\n",
              "    </tr>\n",
              "    <tr>\n",
              "      <th>3</th>\n",
              "      <td>4.200618</td>\n",
              "      <td>43.233132</td>\n",
              "    </tr>\n",
              "    <tr>\n",
              "      <th>4</th>\n",
              "      <td>4.198427</td>\n",
              "      <td>43.252573</td>\n",
              "    </tr>\n",
              "    <tr>\n",
              "      <th>...</th>\n",
              "      <td>...</td>\n",
              "      <td>...</td>\n",
              "    </tr>\n",
              "    <tr>\n",
              "      <th>591</th>\n",
              "      <td>6.479007</td>\n",
              "      <td>53.844732</td>\n",
              "    </tr>\n",
              "    <tr>\n",
              "      <th>592</th>\n",
              "      <td>6.603351</td>\n",
              "      <td>54.544464</td>\n",
              "    </tr>\n",
              "    <tr>\n",
              "      <th>593</th>\n",
              "      <td>6.596274</td>\n",
              "      <td>57.272215</td>\n",
              "    </tr>\n",
              "    <tr>\n",
              "      <th>594</th>\n",
              "      <td>6.600757</td>\n",
              "      <td>60.861215</td>\n",
              "    </tr>\n",
              "    <tr>\n",
              "      <th>595</th>\n",
              "      <td>6.607649</td>\n",
              "      <td>60.186064</td>\n",
              "    </tr>\n",
              "  </tbody>\n",
              "</table>\n",
              "<p>596 rows × 2 columns</p>\n",
              "</div>"
            ],
            "text/plain": [
              "     72fic1202  72fic1202.mv\n",
              "0     4.201829     43.058518\n",
              "1     4.200197     43.293717\n",
              "2     4.197357     43.295409\n",
              "3     4.200618     43.233132\n",
              "4     4.198427     43.252573\n",
              "..         ...           ...\n",
              "591   6.479007     53.844732\n",
              "592   6.603351     54.544464\n",
              "593   6.596274     57.272215\n",
              "594   6.600757     60.861215\n",
              "595   6.607649     60.186064\n",
              "\n",
              "[596 rows x 2 columns]"
            ]
          },
          "metadata": {
            "tags": []
          },
          "execution_count": 3
        }
      ]
    },
    {
      "cell_type": "code",
      "metadata": {
        "colab": {
          "base_uri": "https://localhost:8080/",
          "height": 297
        },
        "id": "e2DLAnrgUlUl",
        "outputId": "44837189-e491-45d1-8a31-c96a8f5ac6fe"
      },
      "source": [
        "data.describe()"
      ],
      "execution_count": null,
      "outputs": [
        {
          "output_type": "execute_result",
          "data": {
            "text/html": [
              "<div>\n",
              "<style scoped>\n",
              "    .dataframe tbody tr th:only-of-type {\n",
              "        vertical-align: middle;\n",
              "    }\n",
              "\n",
              "    .dataframe tbody tr th {\n",
              "        vertical-align: top;\n",
              "    }\n",
              "\n",
              "    .dataframe thead th {\n",
              "        text-align: right;\n",
              "    }\n",
              "</style>\n",
              "<table border=\"1\" class=\"dataframe\">\n",
              "  <thead>\n",
              "    <tr style=\"text-align: right;\">\n",
              "      <th></th>\n",
              "      <th>72fic1202</th>\n",
              "      <th>72fic1202.mv</th>\n",
              "    </tr>\n",
              "  </thead>\n",
              "  <tbody>\n",
              "    <tr>\n",
              "      <th>count</th>\n",
              "      <td>596.000000</td>\n",
              "      <td>596.000000</td>\n",
              "    </tr>\n",
              "    <tr>\n",
              "      <th>mean</th>\n",
              "      <td>5.814670</td>\n",
              "      <td>51.645132</td>\n",
              "    </tr>\n",
              "    <tr>\n",
              "      <th>std</th>\n",
              "      <td>1.314576</td>\n",
              "      <td>8.245319</td>\n",
              "    </tr>\n",
              "    <tr>\n",
              "      <th>min</th>\n",
              "      <td>1.820511</td>\n",
              "      <td>10.729713</td>\n",
              "    </tr>\n",
              "    <tr>\n",
              "      <th>25%</th>\n",
              "      <td>4.399925</td>\n",
              "      <td>45.161637</td>\n",
              "    </tr>\n",
              "    <tr>\n",
              "      <th>50%</th>\n",
              "      <td>6.139216</td>\n",
              "      <td>52.184807</td>\n",
              "    </tr>\n",
              "    <tr>\n",
              "      <th>75%</th>\n",
              "      <td>6.882324</td>\n",
              "      <td>58.063972</td>\n",
              "    </tr>\n",
              "    <tr>\n",
              "      <th>max</th>\n",
              "      <td>8.496871</td>\n",
              "      <td>68.409666</td>\n",
              "    </tr>\n",
              "  </tbody>\n",
              "</table>\n",
              "</div>"
            ],
            "text/plain": [
              "        72fic1202  72fic1202.mv\n",
              "count  596.000000    596.000000\n",
              "mean     5.814670     51.645132\n",
              "std      1.314576      8.245319\n",
              "min      1.820511     10.729713\n",
              "25%      4.399925     45.161637\n",
              "50%      6.139216     52.184807\n",
              "75%      6.882324     58.063972\n",
              "max      8.496871     68.409666"
            ]
          },
          "metadata": {
            "tags": []
          },
          "execution_count": 4
        }
      ]
    },
    {
      "cell_type": "code",
      "metadata": {
        "id": "RWJpElAuUokT"
      },
      "source": [
        "y = data['72fic1202.mv']\n",
        "x1 = data['72fic1202']"
      ],
      "execution_count": null,
      "outputs": []
    },
    {
      "cell_type": "code",
      "metadata": {
        "colab": {
          "base_uri": "https://localhost:8080/",
          "height": 282
        },
        "id": "na-J1uqlU-Di",
        "outputId": "aed3d8dc-ddd0-4b53-e30f-f54bc8831b34"
      },
      "source": [
        "plt.scatter(x1, y)\n",
        "plt.xlabel('72fic1202', fontsize = 10)\n",
        "plt.ylabel('72fic1202.mv', fontsize = 10)\n",
        "plt.show()"
      ],
      "execution_count": null,
      "outputs": [
        {
          "output_type": "display_data",
          "data": {
            "image/png": "[encoded data removed]",
            "text/plain": [
              "<Figure size 432x288 with 1 Axes>"
            ]
          },
          "metadata": {
            "tags": [],
            "needs_background": "light"
          }
        }
      ]
    },
    {
      "cell_type": "code",
      "metadata": {
        "colab": {
          "base_uri": "https://localhost:8080/",
          "height": 444
        },
        "id": "fnq917TnXmny",
        "outputId": "ad781d02-d37d-4380-c8ee-87efc44baed3"
      },
      "source": [
        "x = sm.add_constant(x1)\n",
        "results = sm.OLS(y, x).fit()\n",
        "results.summary()"
      ],
      "execution_count": null,
      "outputs": [
        {
          "output_type": "execute_result",
          "data": {
            "text/html": [
              "<table class=\"simpletable\">\n",
              "<caption>OLS Regression Results</caption>\n",
              "<tr>\n",
              "  <th>Dep. Variable:</th>      <td>72fic1202.mv</td>   <th>  R-squared:         </th> <td>   0.879</td> \n",
              "</tr>\n",
              "<tr>\n",
              "  <th>Model:</th>                   <td>OLS</td>       <th>  Adj. R-squared:    </th> <td>   0.879</td> \n",
              "</tr>\n",
              "<tr>\n",
              "  <th>Method:</th>             <td>Least Squares</td>  <th>  F-statistic:       </th> <td>   4315.</td> \n",
              "</tr>\n",
              "<tr>\n",
              "  <th>Date:</th>             <td>Mon, 22 Feb 2021</td> <th>  Prob (F-statistic):</th> <td>1.33e-274</td>\n",
              "</tr>\n",
              "<tr>\n",
              "  <th>Time:</th>                 <td>11:55:11</td>     <th>  Log-Likelihood:    </th> <td> -1473.2</td> \n",
              "</tr>\n",
              "<tr>\n",
              "  <th>No. Observations:</th>      <td>   596</td>      <th>  AIC:               </th> <td>   2950.</td> \n",
              "</tr>\n",
              "<tr>\n",
              "  <th>Df Residuals:</th>          <td>   594</td>      <th>  BIC:               </th> <td>   2959.</td> \n",
              "</tr>\n",
              "<tr>\n",
              "  <th>Df Model:</th>              <td>     1</td>      <th>                     </th>     <td> </td>    \n",
              "</tr>\n",
              "<tr>\n",
              "  <th>Covariance Type:</th>      <td>nonrobust</td>    <th>                     </th>     <td> </td>    \n",
              "</tr>\n",
              "</table>\n",
              "<table class=\"simpletable\">\n",
              "<tr>\n",
              "      <td></td>         <th>coef</th>     <th>std err</th>      <th>t</th>      <th>P>|t|</th>  <th>[0.025</th>    <th>0.975]</th>  \n",
              "</tr>\n",
              "<tr>\n",
              "  <th>const</th>     <td>   17.4517</td> <td>    0.534</td> <td>   32.704</td> <td> 0.000</td> <td>   16.404</td> <td>   18.500</td>\n",
              "</tr>\n",
              "<tr>\n",
              "  <th>72fic1202</th> <td>    5.8805</td> <td>    0.090</td> <td>   65.691</td> <td> 0.000</td> <td>    5.705</td> <td>    6.056</td>\n",
              "</tr>\n",
              "</table>\n",
              "<table class=\"simpletable\">\n",
              "<tr>\n",
              "  <th>Omnibus:</th>       <td>31.486</td> <th>  Durbin-Watson:     </th> <td>   0.261</td>\n",
              "</tr>\n",
              "<tr>\n",
              "  <th>Prob(Omnibus):</th> <td> 0.000</td> <th>  Jarque-Bera (JB):  </th> <td>  42.446</td>\n",
              "</tr>\n",
              "<tr>\n",
              "  <th>Skew:</th>          <td>-0.457</td> <th>  Prob(JB):          </th> <td>6.07e-10</td>\n",
              "</tr>\n",
              "<tr>\n",
              "  <th>Kurtosis:</th>      <td> 3.934</td> <th>  Cond. No.          </th> <td>    27.8</td>\n",
              "</tr>\n",
              "</table><br/><br/>Warnings:<br/>[1] Standard Errors assume that the covariance matrix of the errors is correctly specified."
            ],
            "text/plain": [
              "<class 'statsmodels.iolib.summary.Summary'>\n",
              "\"\"\"\n",
              "                            OLS Regression Results                            \n",
              "==============================================================================\n",
              "Dep. Variable:           72fic1202.mv   R-squared:                       0.879\n",
              "Model:                            OLS   Adj. R-squared:                  0.879\n",
              "Method:                 Least Squares   F-statistic:                     4315.\n",
              "Date:                Mon, 22 Feb 2021   Prob (F-statistic):          1.33e-274\n",
              "Time:                        11:55:11   Log-Likelihood:                -1473.2\n",
              "No. Observations:                 596   AIC:                             2950.\n",
              "Df Residuals:                     594   BIC:                             2959.\n",
              "Df Model:                           1                                         \n",
              "Covariance Type:            nonrobust                                         \n",
              "==============================================================================\n",
              "                 coef    std err          t      P>|t|      [0.025      0.975]\n",
              "------------------------------------------------------------------------------\n",
              "const         17.4517      0.534     32.704      0.000      16.404      18.500\n",
              "72fic1202      5.8805      0.090     65.691      0.000       5.705       6.056\n",
              "==============================================================================\n",
              "Omnibus:                       31.486   Durbin-Watson:                   0.261\n",
              "Prob(Omnibus):                  0.000   Jarque-Bera (JB):               42.446\n",
              "Skew:                          -0.457   Prob(JB):                     6.07e-10\n",
              "Kurtosis:                       3.934   Cond. No.                         27.8\n",
              "==============================================================================\n",
              "\n",
              "Warnings:\n",
              "[1] Standard Errors assume that the covariance matrix of the errors is correctly specified.\n",
              "\"\"\""
            ]
          },
          "metadata": {
            "tags": []
          },
          "execution_count": 7
        }
      ]
    },
    {
      "cell_type": "code",
      "metadata": {
        "colab": {
          "base_uri": "https://localhost:8080/",
          "height": 282
        },
        "id": "VHoLeuiEn1ot",
        "outputId": "8d89f0f1-b449-4d6a-8f98-d132dd38e78e"
      },
      "source": [
        "plt.scatter(x1, y)\n",
        "yhat = 5.8805*x1 + 17.4517\n",
        "fig = plt.plot(x1, yhat, c = 'red', lw = 4, label = 'Regression line')\n",
        "plt.xlabel('72fic1202', fontsize = 10)\n",
        "plt.ylabel('72fic1202.mv', fontsize = 10)\n",
        "plt.show()"
      ],
      "execution_count": null,
      "outputs": [
        {
          "output_type": "display_data",
          "data": {
            "image/png": "[encoded data removed]",
            "text/plain": [
              "<Figure size 432x288 with 1 Axes>"
            ]
          },
          "metadata": {
            "tags": [],
            "needs_background": "light"
          }
        }
      ]
    }
  ]
}